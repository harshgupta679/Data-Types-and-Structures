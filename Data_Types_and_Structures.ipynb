{
  "nbformat": 4,
  "nbformat_minor": 0,
  "metadata": {
    "colab": {
      "provenance": []
    },
    "kernelspec": {
      "name": "python3",
      "display_name": "Python 3"
    },
    "language_info": {
      "name": "python"
    }
  },
  "cells": [
    {
      "cell_type": "markdown",
      "source": [
        "##  Data-Types-and-Structures"
      ],
      "metadata": {
        "id": "msZno1ZhHhXQ"
      }
    },
    {
      "cell_type": "markdown",
      "source": [
        "1-  What are data structures, and why are they important?\n",
        ">-  data structures are specialized ways of organizing and storing data in a computer so that it can be accessed and used efficiently.They define the relationship between data elements and the operations that can be performed on them."
      ],
      "metadata": {
        "id": "DFa1TIRcsy_A"
      }
    },
    {
      "cell_type": "markdown",
      "source": [
        "2- Explain the difference between mutable and immutable data types with examples.\n",
        ">-  Mutable Data Types\n",
        "\n",
        "Mutable data types are those whose values can be changed after they are created. This means you can modify the internal state of the object without creating a new object.\n",
        "\n",
        ">- Immutable Data Types\n",
        "\n",
        "Immutable data types are those whose values cannot be changed after they are created. If you try to modify an immutable object, a new object is created with the modified value."
      ],
      "metadata": {
        "id": "oUMv-tHctmTn"
      }
    },
    {
      "cell_type": "code",
      "source": [
        "#IMMUTABLE DATA TYPES\n",
        "\n",
        "\"x = 5\"\n",
        "\"y = x + 1\"  # Creates a new object for y\n",
        "\"print(x)\"  # Output: 5 (x remains unchanged)\n",
        "\"print(y)\"  # Output: 6\n",
        "\n",
        "# MUTABLE DATA TYPES\n",
        "\n",
        "\"my_list = [1, 2, 3]\"\n",
        "\"my_list[0] = 4\" # Modifies the original list\n",
        "\"print(my_list)\"  # Output: [4, 2, 3]"
      ],
      "metadata": {
        "id": "QE0GvY_1t_84"
      },
      "execution_count": null,
      "outputs": []
    },
    {
      "cell_type": "markdown",
      "source": [
        "3- What are the main differences between lists and tuples in Python?\n",
        "\n",
        ">- Mutability\n",
        "\n",
        "Lists are mutable: You can change their elements after creation (add, remove, modify).\n",
        "Tuples are immutable: You cannot change their elements after creation. Once a tuple is created, its elements are fixed."
      ],
      "metadata": {
        "id": "IN1cczHPuma3"
      }
    },
    {
      "cell_type": "markdown",
      "source": [
        "4-  Describe how dictionaries store data.\n",
        "\n",
        ">- Dictionaries store data in the form of key-value pairs. Each item in a dictionary consists of a unique key and its associated value.\n",
        "\n",
        "Key: The key is used to access the corresponding value. Keys must be immutable data types (like strings, numbers, or tuples).\n",
        "Value: The value can be any data type (mutable or immutable), representing the information associated with the key."
      ],
      "metadata": {
        "id": "4OMYnflWu4Ko"
      }
    },
    {
      "cell_type": "markdown",
      "source": [
        "5-  Why might you use a set instead of a list in Python?\n",
        "\n",
        ">-"
      ],
      "metadata": {
        "id": "GhopPGfxvGLl"
      }
    },
    {
      "cell_type": "markdown",
      "source": [
        "6-  What is a string in Python, and how is it different from a list?\n",
        "\n",
        ">-  In Python, a string is a sequence of characters. It is an immutable data type, meaning you cannot change its content once it is created. Strings are typically used to represent text.\n",
        "\n",
        "How Strings Differ from Lists\n",
        "\n",
        "\n",
        "\n",
        ">- Data Type:\n",
        "Strings are designed to hold text data (sequences of characters).\n",
        "Lists can store any type of data (numbers, strings, other lists, etc.).\n",
        ">- Mutability:\n",
        "Strings are immutable. Once you create a string, you cannot modify its individual characters. Any operations that seem to change a string actually create a new string object.\n",
        "Lists are mutable. You can change the elements of a list (add, remove, modify) after it's created.\n",
        ">- Syntax:\n",
        "Strings are defined using single quotes ('...'), double quotes (\"...\"), or triple quotes ('''...''' or \"\"\"...\"\"\").\n",
        "Lists are defined using square brackets ([...]).\n",
        ">- Operations:\n",
        "Strings have methods for text-related operations (e.g., upper(), lower(), split(), replace()).\n",
        "Lists have methods for list manipulation (e.g., append(), insert(), remove(), sort()).\n",
        ">- Indexing:\n",
        "Both strings and lists use zero-based indexing to access individual elements.\n",
        "However, you cannot modify characters in a string using indexing due to its immutability."
      ],
      "metadata": {
        "id": "2l1CWKSsvjbf"
      }
    },
    {
      "cell_type": "markdown",
      "source": [
        " 7-  How do tuples ensure data integrity in Python?\n",
        " >- Tuples help ensure data integrity in Python mainly because they are immutable, meaning their contents cannot be changed after creation. Here's how that contributes to data **integrity**"
      ],
      "metadata": {
        "id": "x-U5YFBmv32R"
      }
    },
    {
      "cell_type": "markdown",
      "source": [
        "8-  What is a hash table, and how does it relate to dictionaries in Python?\n",
        ">- A hash table is a data structure that stores data in key-value pairs and uses a hash function to quickly find the value using its key.\n",
        "\n",
        "In Python, a dictionary (dict) is implemented using a hash table. It allows fast access, insertion, and deletion of data using hashable keys like strings, numbers, or tuples."
      ],
      "metadata": {
        "id": "ce1E4fz9wYiT"
      }
    },
    {
      "cell_type": "markdown",
      "source": [
        "9- Can lists contain different data types in Python?\n",
        ">- Yes, lists in Python can contain different data types"
      ],
      "metadata": {
        "id": "TDR9pf6HwPos"
      }
    },
    {
      "cell_type": "markdown",
      "source": [
        "10- Explain why strings are immutable in Python.\n",
        ">- Strings are immutable in Python because once a string is created, its characters cannot be changed.\n",
        "\n",
        "- This design choice ensures:\n",
        "\n",
        "- Data safety: Original strings stay unchanged.\n",
        "\n",
        "- Efficiency: Python can reuse string objects (called string interning).\n",
        "\n",
        "- Hashability: Immutable strings can be used as dictionary keys."
      ],
      "metadata": {
        "id": "k4Bi2xmBw-UE"
      }
    },
    {
      "cell_type": "markdown",
      "source": [
        "11- What advantages do dictionaries offer over lists for certain tasks?\n",
        ">-  Advantages of Dictionaries over Lists:\n",
        "- Faster lookups\n",
        "- Key-value pairing\n",
        "- No need to remember positions\n",
        "- Flexible structure"
      ],
      "metadata": {
        "id": "IcqWB-GoxWua"
      }
    },
    {
      "cell_type": "markdown",
      "source": [
        "12- Describe a scenario where using a tuple would be preferable over a list.\n",
        ">- Use a tuple when the data should not change.\n",
        "\n",
        "🔹 Example Scenario:\n",
        "Storing geographic coordinates:"
      ],
      "metadata": {
        "id": "sIcZT8Ufx_sz"
      }
    },
    {
      "cell_type": "code",
      "source": [
        "location = (28.6139, 77.2090)  # (latitude, longitude)\n"
      ],
      "metadata": {
        "id": "L4IQShLyyRsq"
      },
      "execution_count": null,
      "outputs": []
    },
    {
      "cell_type": "markdown",
      "source": [
        "Coordinates are fixed and shouldn't be modified, so a tuple is safer and more appropriate than a list."
      ],
      "metadata": {
        "id": "TGXFrgNKyURJ"
      }
    },
    {
      "cell_type": "markdown",
      "source": [
        "13- How do sets handle duplicate values in Python?\n",
        ">- Sets automatically remove duplicate values in Python"
      ],
      "metadata": {
        "id": "bAXkwD5LyXZf"
      }
    },
    {
      "cell_type": "code",
      "source": [
        "numbers = {1, 2, 2, 3, 4, 4}\n",
        "print(numbers)  # Output: {1, 2, 3, 4}\n"
      ],
      "metadata": {
        "id": "GopdeOUuyl5b"
      },
      "execution_count": null,
      "outputs": []
    },
    {
      "cell_type": "markdown",
      "source": [
        "Only unique elements are kept. Sets are useful when you need to store distinct values."
      ],
      "metadata": {
        "id": "F6qJeRCsypsS"
      }
    },
    {
      "cell_type": "markdown",
      "source": [
        "14- How does the “in” keyword work differently for lists and dictionaries\n",
        ">- The \"in\" keyword checks for membership, but it behaves differently for lists and dictionaries"
      ],
      "metadata": {
        "id": "9l4tsLDpy2Bo"
      }
    },
    {
      "cell_type": "markdown",
      "source": [
        "15-  Can you modify the elements of a tuple? Explain why or why not.\n",
        ">- No, you cannot modify the elements of a tuple in Python.\n",
        "- Tuples are immutable, meaning once they are created, their contents cannot be changed (i.e., you can't add, remove, or change individual elements)."
      ],
      "metadata": {
        "id": "AEajo-05zGHS"
      }
    },
    {
      "cell_type": "markdown",
      "source": [
        "16-  What is a nested dictionary, and give an example of its use case?\n",
        ">- A nested dictionary is a dictionary where the values themselves are dictionaries. This allows you to represent more complex structures, such as hierarchical data or multi-level key-value pairs.\n",
        ">- Use Case:-\n",
        "A nested dictionary is useful when you need to represent structured data, like student records, company employees, or product catalogs."
      ],
      "metadata": {
        "id": "V2B4xvy-zY3J"
      }
    },
    {
      "cell_type": "markdown",
      "source": [
        "17- Describe the time complexity of accessing elements in a dictionary.\n",
        ">- Accessing elements in a dictionary in Python has a time complexity of Order(1) on average.\n"
      ],
      "metadata": {
        "id": "PS6RBpUyzwW5"
      }
    },
    {
      "cell_type": "markdown",
      "source": [
        "18-  In what situations are lists preferred over dictionaries?\n",
        ">- Lists are preferred over dictionaries in situations where:\n",
        "\n",
        "1. Order matters:\n",
        "Lists maintain the order of elements. If you need to preserve the sequence in which items are added, a list is the better choice.\n",
        "2. Index-based access:\n",
        "If you need to access elements based on their position (index) rather than a key, a list is ideal.\n",
        "3. Storing a collection of similar items:\n",
        "Lists are ideal for storing a collection of items of the same type or similar values when you don’t need to associate them with unique keys.\n",
        "4. When duplicates are allowed:\n",
        "Lists allow duplicate elements, while dictionaries do not. If you need to store multiple copies of the same item, a list is a better choice.\n",
        "5. Less need for key-value pairing:\n",
        "When you don't need to store data in key-value pairs but just a simple collection of items, lists are more straightforward and easier to use."
      ],
      "metadata": {
        "id": "xKh58r6Q0G_6"
      }
    },
    {
      "cell_type": "markdown",
      "source": [
        "19- Why are dictionaries considered unordered, and how does that affect data retrieval?\n",
        " >- Dictionaries in Python are considered unordered because the elements (key-value pairs) in a dictionary do not have a defined order. This means the order in which items are added to the dictionary is not guaranteed to be the same when you retrieve them.\n",
        " #Effect on Data Retrieval:\n",
        "- Fast Access by Key: Despite being unordered, dictionaries allow you to retrieve values efficiently using keys (O(1) time complexity).\n",
        "\n",
        "- No Guaranteed Order: You cannot rely on the order of items in a dictionary. If the order of insertion is important, you may need to use a list or an OrderedDict (from the collections module), which preserves order."
      ],
      "metadata": {
        "id": "o7mW1y670d6Q"
      }
    },
    {
      "cell_type": "markdown",
      "source": [
        "20-  Explain the difference between a list and a dictionary in terms of data retrieval.\n",
        ">- The main difference between a list and a dictionary in terms of data retrieval lies in how they access and store data:\n",
        "\n",
        "1. Data Structure:\n",
        "List: A list stores ordered elements indexed by position.\n",
        "\n",
        "Dictionary: A dictionary stores key-value pairs and retrieves values based on the key.\n",
        "\n",
        "2. Access Method:\n",
        "List: Data is accessed using indices.\n",
        "\n",
        "3. Time Complexity:\n",
        "List: Accessing an element by index is Order(1) (constant time).\n",
        "\n",
        "Dictionary: Accessing an element by key is also Order(1), but much faster when compared to searching for a value in a list, because dictionaries use hash tables for direct access.\n",
        "\n",
        "4. Order:\n",
        "List: Lists maintain a specific order of elements. The position of each element matters.\n",
        "\n",
        "Dictionary: Dictionaries are unordered. Since Python 3.7, dictionaries preserve the insertion order, but they are still accessed by keys, not by position.\n",
        "\n",
        "5. Data Retrieval Flexibility:\n",
        "List: You can retrieve elements based only on their position in the list\n",
        "\n",
        "Dictionary: You retrieve elements based on a unique key, which is more flexible and meaningful, especially for structured data.\n",
        "\n"
      ],
      "metadata": {
        "id": "0RbUab1e1FqA"
      }
    },
    {
      "cell_type": "code",
      "source": [
        "#  Practical Questions"
      ],
      "metadata": {
        "id": "Mb3fkivx1rsS"
      },
      "execution_count": null,
      "outputs": []
    },
    {
      "cell_type": "code",
      "source": [
        "# QUESTION 1 -  Write a code to create a string with your name and print it.\n",
        "\n",
        "name = \"yash pal\"\n",
        "\n",
        "# Printing the string\n",
        "print(name)\n"
      ],
      "metadata": {
        "id": "eheEBmkc1tbT"
      },
      "execution_count": null,
      "outputs": []
    },
    {
      "cell_type": "code",
      "source": [
        "# QUESTION 2 -  Write a code to find the length of the string \"Hello World\".\n",
        "\n",
        "text = \"Hello World\"\n",
        "\n",
        "# Finding and printing the length of the string\n",
        "length = len(text)\n",
        "print(length)\n"
      ],
      "metadata": {
        "id": "lPNoYkZ1178R"
      },
      "execution_count": null,
      "outputs": []
    },
    {
      "cell_type": "code",
      "source": [
        "# QUESTION 3 - Write a code to slice the first 3 characters from the string \"Python Programming\".\n",
        "\n",
        "\n",
        "text = \"Python Programming\"\n",
        "\n",
        "# Slicing the first 3 characters\n",
        "sliced_text = text[:3]\n",
        "\n",
        "# Printing the sliced text\n",
        "print(sliced_text)\n"
      ],
      "metadata": {
        "id": "mgW1fIjH2WXN"
      },
      "execution_count": null,
      "outputs": []
    },
    {
      "cell_type": "code",
      "source": [
        "# QUESTION 4 -  Write a code to convert the string \"hello\" to uppercase.\n",
        "\n",
        "text = \"hello\"\n",
        "\n",
        "# Converting the string to uppercase\n",
        "uppercase_text = text.upper()\n",
        "\n",
        "# Printing the uppercase string\n",
        "print(uppercase_text)\n"
      ],
      "metadata": {
        "id": "MvCldlba2lKK"
      },
      "execution_count": null,
      "outputs": []
    },
    {
      "cell_type": "code",
      "source": [
        "# QUESTION 5 -  Write a code to replace the word \"apple\" with \"orange\" in the string \"I like apple\".\n",
        "\n",
        "text = \"I like apple\"\n",
        "\n",
        "# Replacing \"apple\" with \"orange\"\n",
        "new_text = text.replace(\"apple\", \"orange\")\n",
        "\n",
        "# Printing the modified string\n",
        "print(new_text)\n"
      ],
      "metadata": {
        "id": "cv92bLix2sy-"
      },
      "execution_count": null,
      "outputs": []
    },
    {
      "cell_type": "code",
      "source": [
        "# QUESTION 6 - Write a code to create a list with numbers 1 to 5 and print it.\n",
        "\n",
        "numbers = [1, 2, 3, 4, 5]\n",
        "\n",
        "# Printing the list\n",
        "print(numbers)\n"
      ],
      "metadata": {
        "id": "yG0ixnxi27yY"
      },
      "execution_count": null,
      "outputs": []
    },
    {
      "cell_type": "code",
      "source": [
        "# QUESTION 7 - Write a code to append the number 10 to the list [1, 2, 3, 4].\n",
        "\n",
        "numbers = [1, 2, 3, 4]\n",
        "\n",
        "# Appending 10 to the list\n",
        "numbers.append(10)\n",
        "\n",
        "# Printing the updated list\n",
        "print(numbers)\n"
      ],
      "metadata": {
        "id": "_3gbsKZ72aP2"
      },
      "execution_count": null,
      "outputs": []
    },
    {
      "cell_type": "code",
      "source": [
        "# QUESTION 8 -  Write a code to remove the number 3 from the list [1, 2, 3, 4, 5].\n",
        "\n",
        "numbers = [1, 2, 3, 4, 5]\n",
        "\n",
        "# Removing 3 to the list\n",
        "numbers.remove(3)\n",
        "\n",
        "# Printing the updated list\n",
        "print(numbers)"
      ],
      "metadata": {
        "id": "8VXGBfyE2npq"
      },
      "execution_count": null,
      "outputs": []
    },
    {
      "cell_type": "code",
      "source": [
        "# QUESTION 9 - Write a code to access the second element in the list ['a', 'b', 'c', 'd'].\n",
        "\n",
        "letters = ['a', 'b', 'c', 'd']\n",
        "\n",
        "# Accessing the second element (index 1)\n",
        "second_element = letters[1]\n",
        "\n",
        "# Printing the second element\n",
        "print(second_element)"
      ],
      "metadata": {
        "colab": {
          "base_uri": "https://localhost:8080/"
        },
        "collapsed": true,
        "id": "7EtKwRAw3Hmm",
        "outputId": "77bf8cc8-e578-44ab-b1aa-739b84944aac"
      },
      "execution_count": 1,
      "outputs": [
        {
          "output_type": "stream",
          "name": "stdout",
          "text": [
            "b\n"
          ]
        }
      ]
    },
    {
      "cell_type": "code",
      "source": [
        "# QUESTION 10 - Write a code to reverse the list [10, 20, 30, 40, 50].\n",
        "\n",
        "numbers = [10, 20, 30, 40, 50]\n",
        "\n",
        "# Reversing the list\n",
        "numbers.reverse()\n",
        "\n",
        "# Printing the reversed list\n",
        "print(numbers)"
      ],
      "metadata": {
        "id": "LD1kgQ6m4BOu"
      },
      "execution_count": null,
      "outputs": []
    },
    {
      "cell_type": "code",
      "source": [
        "# QUESTION 11 -  Write a code to create a tuple with the elements 100, 200, 300 and print it.\n",
        "\n",
        "numbers = (100, 200, 300)\n",
        "\n",
        "# Printing the tuple\n",
        "print(numbers)"
      ],
      "metadata": {
        "id": "n3pQbxcd4ugj"
      },
      "execution_count": null,
      "outputs": []
    },
    {
      "cell_type": "code",
      "source": [
        "# QUESTION 12 - Write a code to access the second-to-last element of the tuple ('red', 'green', 'blue', 'yellow').\n",
        "\n",
        "colors = ('red', 'green', 'blue', 'yellow')\n",
        "\n",
        "# Accessing the second-to-last element\n",
        "second_last = colors[-2]\n",
        "\n",
        "# Printing the result\n",
        "print(second_last)\n"
      ],
      "metadata": {
        "id": "5Dphw3OW48g6"
      },
      "execution_count": null,
      "outputs": []
    },
    {
      "cell_type": "code",
      "source": [
        "# QUESTION 13 - Write a code to find the minimum number in the tuple (10, 20, 5, 15).\n",
        "\n",
        "numbers = (10, 20 ,5, 15)\n",
        "\n",
        "# Finding the minimum number\n",
        "min_number = min(numbers)\n",
        "\n",
        "# Printing the result\n",
        "print(min_number)"
      ],
      "metadata": {
        "id": "DX4iOHEh5cTi"
      },
      "execution_count": null,
      "outputs": []
    },
    {
      "cell_type": "code",
      "source": [
        "# QUESTION 14 - Write a code to find the index of the element \"cat\" in the tuple ('dog', 'cat', 'rabbit').\n",
        "\n",
        "animals = ('dog', 'cat', 'rabbit')\n",
        "\n",
        "# Finding the index of \"Cat\"\n",
        "index_cat = animal.index('cat')\n",
        "\n",
        "# Printing the result\n",
        "print(index_cat)"
      ],
      "metadata": {
        "id": "xigaY38-57pr"
      },
      "execution_count": null,
      "outputs": []
    },
    {
      "cell_type": "code",
      "source": [
        "# QUESTION 15 - Write a code to create a tuple containing three different fruits and check if \"kiwi\" is in it.\n",
        "\n",
        "fruits = ('apple', 'banana', 'orange')\n",
        "\n",
        "# Checking if \"kiwi\" is in the tuple\n",
        "is_kiwi_in_tuple = 'kiwi' in fruits\n",
        "\n",
        "# Printing the result\n",
        "print(is_kiwi_in_tuple)"
      ],
      "metadata": {
        "id": "tPzqyoqo6y9d"
      },
      "execution_count": null,
      "outputs": []
    },
    {
      "cell_type": "code",
      "source": [
        "# QUESTION 16 - Write a code to create a set with the elements 'a', 'b', 'c' and print it.\n",
        "\n",
        "letters = {'a', 'b', 'c'}\n",
        "\n",
        "# Printing the set\n",
        "print(letters)"
      ],
      "metadata": {
        "id": "kpKKzxyg66e1"
      },
      "execution_count": null,
      "outputs": []
    },
    {
      "cell_type": "code",
      "source": [
        "# QUESTION 17 -  Write a code to clear all elements from the set {1, 2, 3, 4, 5}.\n",
        "\n",
        "numbers = {1, 2, 3, 4, 5}\n",
        "\n",
        "# Clearing all elements from the set\n",
        "numbers.clear()\n",
        "\n",
        "# Printing the result\n",
        "print(numbers)"
      ],
      "metadata": {
        "id": "c8Ezo7wi7CvE"
      },
      "execution_count": null,
      "outputs": []
    },
    {
      "cell_type": "code",
      "source": [
        "# QUESTION 18 -  Write a code to remove the element 4 from the set {1, 2, 3, 4}.\n",
        "\n",
        "numbers = {1, 2, 3, 4}\n",
        "\n",
        "# Removing the element 4\n",
        "numbers.remove(4)\n",
        "\n",
        "# Printing the result\n",
        "print(numbers)"
      ],
      "metadata": {
        "id": "VvyluQ0Y7LN1"
      },
      "execution_count": null,
      "outputs": []
    },
    {
      "cell_type": "code",
      "source": [
        "# QUESTION 19 -  Write a code to find the union of two sets {1, 2, 3} and {3, 4, 5}.\n",
        "\n",
        "set1 = {1, 2, 3}\n",
        "set2 = {3, 4, 5}\n",
        "\n",
        "# Finding the union of the sets\n",
        "union_set = set1.union(set2)\n",
        "\n",
        "# Printing the result\n",
        "print(union_set)"
      ],
      "metadata": {
        "id": "9bsW8AzX7Piq"
      },
      "execution_count": null,
      "outputs": []
    },
    {
      "cell_type": "code",
      "source": [
        "# QUESTION 20 - . Write a code to find the intersection of two sets {1, 2, 3} and {2, 3, 4}.\n",
        "\n",
        "set1 = {1, 2, 3}\n",
        "set2 = {2, 3, 4}\n",
        "\n",
        "# Finding the intersection of the sets\n",
        "intersection_set = set1.intersection(set2)\n",
        "\n",
        "# Printing the result\n",
        "print(intersection_set)"
      ],
      "metadata": {
        "id": "c-RCYaIM7ZAl"
      },
      "execution_count": null,
      "outputs": []
    },
    {
      "cell_type": "code",
      "source": [
        "# QUESTION 21 - Write a code to create a dictionary with the keys \"name\", \"age\", and \"city\", and print it.\n",
        "\n",
        "person = {\n",
        "    \"name\": \"Yash\",\n",
        "    \"age\": 20,\n",
        "    \"city\": \"Mumbai\"\n",
        "}\n",
        "\n",
        "# Printing the dictionary\n",
        "print(person)"
      ],
      "metadata": {
        "id": "g1tH8VAQ7ekc"
      },
      "execution_count": null,
      "outputs": []
    },
    {
      "cell_type": "code",
      "source": [
        "# QUESTION 22 - Write a code to add a new key-value pair \"country\": \"USA\" to the dictionary {'name': 'John', 'age': 25}.\n",
        "\n",
        "person = {'name': 'John', 'age': 25}\n",
        "\n",
        "# Adding a new key-value pair\n",
        "person['country'] = 'USA'\n",
        "\n",
        "# Printing the updated dictionary\n",
        "print(person)"
      ],
      "metadata": {
        "id": "gXcILHxH7ocH"
      },
      "execution_count": null,
      "outputs": []
    },
    {
      "cell_type": "code",
      "source": [
        "# QUESTION 23 - Write a code to access the value associated with the key \"name\" in the dictionary {'name': 'Alice', 'age': 30}.\n",
        "\n",
        "person = {'name': 'Alice', 'age': 30}\n",
        "\n",
        "# Accessing the value associated with the key \"name\"\n",
        "name_value = person['name']\n",
        "\n",
        "# Printing the result\n",
        "print(name_value)"
      ],
      "metadata": {
        "id": "4Kcz-eX17z4s"
      },
      "execution_count": null,
      "outputs": []
    },
    {
      "cell_type": "code",
      "source": [
        "# QUESTION 24 -  Write a code to remove the key \"age\" from the dictionary {'name': 'Bob', 'age': 22, 'city': 'New York'}.\n",
        "\n",
        "person = {'name': 'Bob', 'age': 22, 'city': 'New York'}\n",
        "\n",
        "# Removing the key \"age\"\n",
        "del person['age']\n",
        "\n",
        "# Printing the updated dictionary\n",
        "print(person)"
      ],
      "metadata": {
        "id": "TCuDHzCt7907"
      },
      "execution_count": null,
      "outputs": []
    },
    {
      "cell_type": "code",
      "source": [
        "# QUESTION 25 - Write a code to check if the key \"city\" exists in the dictionary {'name': 'Alice', 'city': 'Paris'}.\n",
        "\n",
        "person = {'name': 'Alice', 'city': 'Paris'}\n",
        "\n",
        "# Checking if the key \"city\" exists\n",
        "if 'city' in person:\n",
        "    print(\"The key 'city' exists in the dictionary.\")"
      ],
      "metadata": {
        "id": "9PHrPhR78Cc9"
      },
      "execution_count": null,
      "outputs": []
    },
    {
      "cell_type": "code",
      "source": [
        "# QUESTION 26 - Write a code to create a list, a tuple, and a dictionary, and print them all.\n",
        "\n",
        "my_list = [1, 2, 3]\n",
        "\n",
        "# Creating a tuple\n",
        "my_tuple = (4, 5, 6)\n",
        "\n",
        "# Creating a dictionary\n",
        "my_dict = {\"name\": \"Harsh\", \"age\": 14}\n",
        "\n",
        "# Printing all\n",
        "print(\"List:\", my_list)\n",
        "print(\"Tuple:\", my_tuple)\n",
        "print(\"Dictionary:\", my_dict)\n"
      ],
      "metadata": {
        "id": "39JRFBq58I3J"
      },
      "execution_count": null,
      "outputs": []
    },
    {
      "cell_type": "code",
      "source": [
        "# QUESTION 27 - Write a code to create a list of 5 random numbers between 1 and 100, sort it in ascending order, and print the result.\n",
        "\n",
        "import random\n",
        "\n",
        "random_numbers = [random.randint(1, 100) for _ in range(5)]\n",
        "\n",
        "# Sorting the list in ascending order\n",
        "random_numbers.sort()\n",
        "\n",
        "# Printing the sorted list\n",
        "print(\"Sorted random numbers:\", random_numbers)\n"
      ],
      "metadata": {
        "id": "AjF39URv8YJE"
      },
      "execution_count": null,
      "outputs": []
    },
    {
      "cell_type": "code",
      "source": [
        "# QUESTION 28 - Write a code to create a list with strings and print the element at the third index.\n",
        "\n",
        "my_list = [\"apple\", \"banana\", \"cherry\", \"date\", \"elderberry\"]\n",
        "\n",
        "# Printing the element at the third index\n",
        "print(my_list[3])\n"
      ],
      "metadata": {
        "id": "G9RP1Lq_9H9U"
      },
      "execution_count": null,
      "outputs": []
    },
    {
      "cell_type": "code",
      "source": [
        "# QUESTION 29 -  Write a code to combine two dictionaries into one and print the result.\n",
        "\n",
        "dict1 = {\"name\": \"Harsh\", \"age\": 14}\n",
        "dict2 = {\"city\": \"Delhi\", \"grade\": \"A\"}\n",
        "\n",
        "# Combining the dictionaries\n",
        "combined_dict = {**dict1, **dict2}\n",
        "\n",
        "# Printing the combined dictionary\n",
        "print(combined_dict)\n"
      ],
      "metadata": {
        "id": "gdT-p1_x9RRf"
      },
      "execution_count": null,
      "outputs": []
    },
    {
      "cell_type": "code",
      "source": [
        "# QUESTION 30 - Write a code to convert a list of strings into a set.\n",
        "\n",
        "my_list = [\"apple\", \"banana\", \"cherry\", \"apple\", \"date\"]\n",
        "\n",
        "# Converting the list into a set (duplicates will be removed)\n",
        "my_set = set(my_list)\n",
        "\n",
        "# Printing the resulting set\n",
        "print(my_set)"
      ],
      "metadata": {
        "id": "9R7MIDvu9j-j"
      },
      "execution_count": null,
      "outputs": []
    }
  ]
}